{
 "cells": [
  {
   "cell_type": "code",
   "execution_count": 2,
   "metadata": {
    "scrolled": true
   },
   "outputs": [
    {
     "data": {
      "text/html": [
       "<style>.output {\n",
       "    font-family: ariel;\n",
       "    align-items: normal;\n",
       "    text-align: normal;\n",
       "}\n",
       "\n",
       "div.output_svg div { margin : auto; }\n",
       ".div.output_area.MathJax_Display{ text-align: center; }\n",
       "div.text_cell_render { font-family: sans-serif; }\n",
       "\n",
       "details {\n",
       "    margin: 20px 0px;\n",
       "    padding: 0px 10px;\n",
       "    border-radius: 3px;\n",
       "    border-style: solid;\n",
       "    border-color: black;\n",
       "    border-width: 2px;\n",
       "}\n",
       "details div{padding: 20px 30px;}\n",
       "details summary{font-size: 18px;}\n",
       "\n",
       "table {\n",
       "     margin: calc(auto + 10px) !important;\n",
       "     border: solid !important;\n",
       " }\n",
       "\n",
       " th, td {\n",
       "    text-align: left !important;\n",
       " }\n",
       "\n",
       " .further_box {\n",
       "    background-color:rgb(230, 230, 230);\n",
       "    border-style: solid;\n",
       "    margin: 10px 10px 10px 0px;\n",
       "    padding: 10px;\n",
       "    left:calc(auto - 20px);\n",
       " }\n",
       "\n",
       " .question_box {\n",
       "    background-color:rgb(255, 255, 225);\n",
       "    border-style: solid;\n",
       "    margin: 10px 10px 10px 0px;\n",
       "    padding: 10px;\n",
       "    left:calc(auto - 20px);\n",
       " }</style>\n",
       "     <input type=\"submit\" value='Home' id=\"initiated\" class='home_button' onclick='window.location=\"../index.ipynb\"' style='float: right; margin-right: 40px;'>\n",
       "    <script>\n",
       "    $('.home_button').not('#initiated').remove();\n",
       "    $('.home_button').removeAttr('id');\n",
       "    $(\".home_button\").insertBefore($(\"div.cell\").first());\n",
       "    \n",
       "    $('div.input.init_hidden').hide()\n",
       "    $('div.input.init_shown').show()\n",
       "    $('.toggle_button').each(function( index, element ) {\n",
       "       var prefix;\n",
       "       if (this.classList.contains('init_show')) {\n",
       "           prefix = 'Show '\n",
       "       }\n",
       "       else if (this.classList.contains('init_hide')) {\n",
       "           prefix = 'Hide '\n",
       "       };\n",
       "       $(this).val(prefix + $(this).val().substr($(this).val().indexOf(\" \") + 1))\n",
       "    });\n",
       "    IPython.OutputArea.prototype._should_scroll = function(lines) {\n",
       "        return false;\n",
       "    }\n",
       "    </script>\n",
       "    "
      ],
      "text/plain": [
       "<IPython.core.display.HTML object>"
      ]
     },
     "metadata": {},
     "output_type": "display_data"
    },
    {
     "data": {
      "text/html": [
       "\n",
       "    <script>\n",
       "      function get_new_label(butn, hide) {\n",
       "          var shown = $(butn).parents(\"div.cell.code_cell\").find('div.input').is(':visible');\n",
       "          var title = $(butn).val().substr($(butn).val().indexOf(\" \") + 1)\n",
       "          return ((shown) ? 'Show ' : 'Hide ') + title\n",
       "      }\n",
       "      function code_toggle(butn, hide) {\n",
       "        $(butn).val(get_new_label(butn,hide));\n",
       "        $(hide).slideToggle();\n",
       "      };\n",
       "    </script>\n",
       "    <input type=\"submit\" value='initiated' class='toggle_button'>\n",
       "    <script>\n",
       "        var hide_area = $(\".toggle_button[value='initiated']\").parents('div.cell').prevAll().addBack().slice(-1)\n",
       "        hide_area = $(hide_area).find(\"div.input\").add($(hide_area).filter(\"div.text_cell\"))\n",
       "        $(\".toggle_button[value='initiated']\").prop(\"hide_area\", hide_area)\n",
       "        $(\".toggle_button[value='initiated']\").click(function(){\n",
       "            code_toggle(this, $(this).prop(\"hide_area\"))\n",
       "        }); \n",
       "$(\".toggle_button[value='initiated']\").parents(\"div.output_area\").insertBefore($(\".toggle_button[value='initiated']\").parents(\"div.output\").find('div.output_area').first());\n",
       "    var shown = $(\".toggle_button[value='initiated']\").parents(\"div.cell.code_cell\").find('div.input').is(':visible');\n",
       "    var title = ((shown) ? 'Hide ' : 'Show ') + 'setup code'; \n",
       "     $(\".toggle_button[value='initiated']\").addClass(\"init_show\");\n",
       "            $(hide_area).addClass(\"init_hidden\");  $(\".toggle_button[value='initiated']\").val(title);\n",
       "    </script>"
      ],
      "text/plain": [
       "<IPython.core.display.HTML object>"
      ]
     },
     "metadata": {},
     "output_type": "display_data"
    }
   ],
   "source": [
    "%config InlineBackend.figure_format = 'svg' # change output plot display format to 'svg'\n",
    "\n",
    "# import the helper functions from the parent directory,\n",
    "# these help with things like graph plotting and notebook layout\n",
    "import sys\n",
    "sys.path.append('..')\n",
    "from helper_functions import *\n",
    "\n",
    "# set things like fonts etc - comes from helper_functions\n",
    "set_notebook_preferences()\n",
    "\n",
    "# add a show/hide code button - also from helper_functions\n",
    "toggle_code(title = \"setup code\")"
   ]
  },
  {
   "cell_type": "markdown",
   "metadata": {
    "hide_input": true
   },
   "source": [
    "# Inference and decision making: A medical diagnosis and treatment example\n",
    "\n",
    "The second simple inference problem introduces how inference can be used for decision making. \n",
    "\n",
    "## Part 1: medical diagnosis\n",
    "\n",
    "Alice has a test for a disease:\n",
    "\n",
    "* a = 1 indicates Alice has the disease, a = 0 indicates she does not\n",
    "* b = 1 indicates positive test result, b = 0 indicates it is negative\n",
    "\n",
    "The test is 95% reliable:\n",
    "\n",
    "* in 95% of cases of people who really have the disease, a positive result is returned\n",
    "* in 95% of cases of people who do not have the disease, a negative result is obtained\n",
    "\n",
    "5% of people of Alice’s age and background have the disease\n",
    "\n",
    "<span style=\"color:blue\"> Alice has the test and the result is positive. </span>\n",
    "\n",
    "<span style=\"color:red\"> **Compute the probability that Alice has the disease.** </span>"
   ]
  },
  {
   "cell_type": "markdown",
   "metadata": {},
   "source": [
    "### Medical diagnosis as inference\n",
    "\n",
    "The first step to any inference problem is to **write down the probability of everything**. In the current case, we can write down the prior probability of having the disease $p(a)$ and the probability of the test result given the disease $p(b|a)$ as follows:\n",
    "\n",
    "<div class=\"row\">\n",
    "  <div class=\"column\">\n",
    "    <img src=\"medical-solution-A.svg\" alt=\"Snow\" style=\"width:80%; float: center; padding: 0px; padding : 20px\">\n",
    "  </div>\n",
    "</div>\n",
    "\n",
    "On the right hand side we have enumerated the joint distribution $p(a,b)$.\n",
    "\n",
    "The second step is to use the rules of probability to compute the distribution over the unknown quantity (here the disease variable $a$) given the observed variable (here the test variable $b=1$). Since we need $p(a|b)$, but have $p(a)p(b|a)$ we use Bayes' rule: \n",
    "\n",
    "<div class=\"row\">\n",
    "  <div class=\"column\">\n",
    "    <img src=\"medical-solution-B.svg\" alt=\"Snow\" style=\"width:80%; float: center; padding: 0px; padding : 20px\">\n",
    "  </div>\n",
    "</div>\n",
    "\n",
    "**The test is 95% reliable, but the probability that Alice has the disease is only 50%.**"
   ]
  },
  {
   "cell_type": "markdown",
   "metadata": {},
   "source": [
    "## Part 2: Treatment for the disease\n",
    "\n",
    "The disease has a treatment that increases the patient's quality of life if they have the disease. However, as the treatment has side effects, if the patient does not have the disease and takes the treatment, their quality of life is lowered.\n",
    "\n",
    "* Let t =1 indicate Alice is treated, t = 0 indicate that she is not\n",
    "\n",
    "* Alice’s quality of life R depends on whether she has the disease and whether she is treated:\n",
    "\n",
    "\\begin{align}\n",
    "\\left [ \\begin{array}{cc}\n",
    "R(a = 0, t = 0) & R(a = 0, t = 1)\\\\\n",
    "R(a = 1, t = 0) &R(a = 1, t = 1)\\\\\n",
    "\\end{array} \\right] \n",
    "= \n",
    "\\left [ \\begin{array}{cc}\n",
    "10 & 7\\\\\n",
    "3 &5\\\\\n",
    "\\end{array} \\right]\n",
    "\\end{align}\n",
    "\n",
    "<span style=\"color:red\"> **Should Alice be treated?** </span>"
   ]
  },
  {
   "cell_type": "markdown",
   "metadata": {
    "collapsed": true,
    "hide_input": true
   },
   "source": [
    "### Medical treatment via Bayesian decision theory\n",
    "\n",
    "The second part of the problem can be solved using Bayesian decision theory, which is a rather grand term for a very simple idea. The basic idea is to consider each possible action that can be made and for each compute the expected reward (here the quality of life). The action with  the highest expected reward is then selected. The reward will depend on variables that we do not know (here whether Alice has the disease or not). So, to compute the expected reward, we average those unknown variables against the posterior distribution. Here's how this works:\n",
    "\n",
    "<div class=\"row\">\n",
    "  <div class=\"column\">\n",
    "    <img src=\"medical-solution-decision.svg\" alt=\"Snow\" style=\"width:80%; float: center; padding: 0px; padding : 20px\">\n",
    "  </div>\n",
    "</div>\n",
    "\n",
    "**So on balance, it's best not to treat Alice.**\n",
    "\n",
    "Notice here that **inference and decision making are separated**. The posterior distribution, once computed, can be reused without further computation for any decision problem involving the unknown variables. "
   ]
  },
  {
   "cell_type": "markdown",
   "metadata": {},
   "source": [
    "## Summary\n",
    "\n",
    "Bayesian decision theory provides a framework for decision making under uncertainty:\n",
    "\n",
    "1. First compute the posterior distribution over the unknown state of the world $a$ given evidence $b=1$.\n",
    "\n",
    "2. Compute the expected reward for each action $t$ (the conditional reward)\n",
    "\n",
    "\\begin{align}\n",
    "R(t) = \\sum_{a} R(a,t) p(a|b=1)\n",
    "\\end{align}\n",
    "\n",
    "3. Select the optimal action $t^{\\star}$ with the largest expected reward\n",
    "\n",
    "\\begin{align}\n",
    "t^{\\star} = \\underset{t}{\\mathrm{arg\\,max}} \\; R(t) \n",
    "\\end{align}\n",
    "\n",
    "The posterior can be reused for any decision that you need to make until new observations are made."
   ]
  },
  {
   "cell_type": "markdown",
   "metadata": {},
   "source": [
    "## Questions\n",
    "\n",
    "1. Bayesian decision theory\n",
    "\n",
    "  A data-scientist has computed a complex posterior distribution over a variable of interest, $x$, given observed data $y$, that is $p(x|y)$. They would like to return a point estimate of $x$ to their client. The client provides the data-scientist with a reward function $R(\\hat{x},x)$ that indicates their satisfaction with a point estimate $\\hat{x}$ when the true state of the variable is $x$.\n",
    "\n",
    "  * Explain how to use _Bayesian Decision Theory_ to determine the optimal point estimate, $\\hat{x}$.  \n",
    "  * Compute the optimal point estimate $\\hat{x}$ in the case when the reward function is the negative square error between the point estimate and the true value, $R(\\hat{x},x) = -(\\hat{x}-x)^2 $. Comment on your result. \n",
    "  * Compute the optimal point estimate $\\hat{x}$ in the case when the reward function is the negative absolute error between the point estimate and the true value, $R(\\hat{x},x) = -|\\hat{x}-x| $. Comment on your result.\n",
    "  \n",
    "<details>\n",
    "<summary>Answer</summary>\n",
    "<div>\n",
    "<div class=\"row\">\n",
    "  <div class=\"column\">\n",
    "    <img src=\"solution-dec-theory-1.png\" alt=\"Snow\" style=\"width:95%; float: center; padding: 0px; padding : 20px\">\n",
    "          <img src=\"solution-dec-theory-2.png\" alt=\"Snow\" style=\"width:95%; float: center; padding: 0px; padding : 20px\">\n",
    "  </div>\n",
    "</div>\n",
    "</div>\n",
    "</details>  "
   ]
  }
 ],
 "metadata": {
  "kernelspec": {
   "display_name": "Python 3",
   "language": "python",
   "name": "python3"
  },
  "language_info": {
   "codemirror_mode": {
    "name": "ipython",
    "version": 3
   },
   "file_extension": ".py",
   "mimetype": "text/x-python",
   "name": "python",
   "nbconvert_exporter": "python",
   "pygments_lexer": "ipython3",
   "version": "3.7.6"
  }
 },
 "nbformat": 4,
 "nbformat_minor": 2
}
